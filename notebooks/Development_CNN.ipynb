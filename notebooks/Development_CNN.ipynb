{
 "cells": [
  {
   "cell_type": "code",
   "execution_count": 3,
   "id": "912393c6-219b-4a0f-bcd7-e27435fd0d1d",
   "metadata": {},
   "outputs": [],
   "source": [
    "# import the libraries as shown below\n",
    "\n",
    "import tensorflow \n",
    "import numpy as np\n",
    "from glob import glob\n",
    "import matplotlib.pyplot as plt\n",
    "from tensorflow.keras.preprocessing import image\n",
    "from tensorflow.keras.models import Sequential, Model\n",
    "from tensorflow.keras.applications.vgg19 import VGG19\n",
    "from tensorflow.keras.losses import SparseCategoricalCrossentropy\n",
    "from tensorflow.keras.applications.resnet50 import preprocess_input\n",
    "from tensorflow.keras.callbacks import ModelCheckpoint, EarlyStopping\n",
    "from tensorflow.keras.preprocessing.image import ImageDataGenerator, load_img\n",
    "from tensorflow.keras.layers import Conv2D, MaxPooling2D, Flatten, Dropout, Dense, experimental, Lambda"
   ]
  },
  {
   "cell_type": "markdown",
   "id": "e9ed5644-c610-48bb-923b-2e99e1b399ee",
   "metadata": {},
   "source": [
    "# Check Existance of bad files"
   ]
  },
  {
   "cell_type": "code",
   "execution_count": 4,
   "id": "70d48ab4-3cdc-4504-8945-7096df496be5",
   "metadata": {},
   "outputs": [
    {
     "name": "stdout",
     "output_type": "stream",
     "text": [
      "processing class directory  Parasitized\n",
      "processing class directory  Uninfected\n",
      " no improper image files were found\n"
     ]
    }
   ],
   "source": [
    "import os\n",
    "import cv2\n",
    "def check_images( s_dir, ext_list):\n",
    "    bad_images=[]\n",
    "    bad_ext=[]\n",
    "    s_list= os.listdir(s_dir)\n",
    "    for klass in s_list:\n",
    "        klass_path=os.path.join (s_dir, klass)\n",
    "        print ('processing class directory ', klass)\n",
    "        if os.path.isdir(klass_path):\n",
    "            file_list=os.listdir(klass_path)\n",
    "            for f in file_list:               \n",
    "                f_path=os.path.join (klass_path,f)\n",
    "                index=f.rfind('.')\n",
    "                ext=f[index+1:].lower()\n",
    "                if ext not in ext_list:\n",
    "                    print('file ', f_path, ' has an invalid extension ', ext)\n",
    "                    bad_ext.append(f_path)\n",
    "                if os.path.isfile(f_path):\n",
    "                    try:\n",
    "                        img=cv2.imread(f_path)\n",
    "                        shape=img.shape\n",
    "                    except:\n",
    "                        print('file ', f_path, ' is not a valid image file')\n",
    "                        bad_images.append(f_path)\n",
    "                else:\n",
    "                    print('*** fatal error, you a sub directory ', f, ' in class directory ', klass)\n",
    "        else:\n",
    "            print ('*** WARNING*** you have files in ', s_dir, ' it should only contain sub directories')\n",
    "    return bad_images, bad_ext\n",
    "\n",
    "source_dir ='../data/external/cell_images'\n",
    "good_exts=['jpg', 'png', 'jpeg', 'gif', 'bmp' ] # list of acceptable extensions\n",
    "bad_file_list, bad_ext_list=check_images(source_dir, good_exts)\n",
    "if len(bad_file_list) !=0:\n",
    "    print('improper image files are listed below')\n",
    "    for i in range (len(bad_file_list)):\n",
    "        print (bad_file_list[i])\n",
    "else:\n",
    "    print(' no improper image files were found')"
   ]
  },
  {
   "cell_type": "code",
   "execution_count": 5,
   "id": "de1e4697-2492-4405-8b30-442328cf426e",
   "metadata": {},
   "outputs": [
    {
     "name": "stderr",
     "output_type": "stream",
     "text": [
      "Copying files: 2000 files [00:02, 718.29 files/s]\n"
     ]
    }
   ],
   "source": [
    "# Split the data After removing corrupted Images\n",
    "import splitfolders\n",
    "splitfolders.ratio('../data/external/cell_images', output=\"../data/interim/dataset\", seed=1337, ratio=(.8, 0.1,0.1))"
   ]
  },
  {
   "cell_type": "code",
   "execution_count": 6,
   "id": "96cd9cb4-7e53-4a13-a765-b84eb0d0b0e2",
   "metadata": {},
   "outputs": [
    {
     "name": "stdout",
     "output_type": "stream",
     "text": [
      "Found 5136 images belonging to 2 classes.\n"
     ]
    }
   ],
   "source": [
    "train_datagen = ImageDataGenerator(\n",
    "    rescale = 1./255,\n",
    "    horizontal_flip = True,\n",
    "    rotation_range = 10\n",
    ")\n",
    "\n",
    "# in the anaconda_prompt write \"mkdir augmented\" to ccreate file to put the augmented images in it \n",
    "\n",
    "train_generator = train_datagen.flow_from_directory(\n",
    "    '../data/interim/dataset/train',\n",
    "    target_size = (256, 256),\n",
    "    batch_size = 32,\n",
    "    class_mode = 'sparse',\n",
    "    save_to_dir = \"../data/interim/augmentedcnn\"\n",
    ")"
   ]
  },
  {
   "cell_type": "code",
   "execution_count": 7,
   "id": "ce2f2276-0626-4413-9992-9a579df1f25a",
   "metadata": {},
   "outputs": [
    {
     "name": "stdout",
     "output_type": "stream",
     "text": [
      "Found 866 images belonging to 2 classes.\n"
     ]
    }
   ],
   "source": [
    "validation_datagen = ImageDataGenerator(\n",
    "    rescale = 1./255,\n",
    "    horizontal_flip = True,\n",
    "    rotation_range = 10\n",
    ")\n",
    "\n",
    "# in the anaconda_prompt write \"mkdir augmented\" to ccreate file to put the augmented images in it \n",
    "\n",
    "validation_generator = validation_datagen.flow_from_directory(\n",
    "    '../data/interim/dataset/val',\n",
    "    target_size = (256, 256),\n",
    "    batch_size = 32,\n",
    "    class_mode = 'sparse'\n",
    ")"
   ]
  },
  {
   "cell_type": "code",
   "execution_count": 8,
   "id": "d4a75842-d5cd-4640-b540-8f25279a8044",
   "metadata": {},
   "outputs": [
    {
     "name": "stdout",
     "output_type": "stream",
     "text": [
      "Found 859 images belonging to 2 classes.\n"
     ]
    }
   ],
   "source": [
    "test_datagen = ImageDataGenerator(\n",
    "    rescale = 1./255,\n",
    "    horizontal_flip = True,\n",
    "    rotation_range = 10\n",
    ")\n",
    "\n",
    "# in the anaconda_prompt write \"mkdir augmented\" to ccreate file to put the augmented images in it \n",
    "\n",
    "test_generator = test_datagen.flow_from_directory(\n",
    "    '../data/interim/dataset/test',\n",
    "    target_size = (256, 256),\n",
    "    batch_size = 32,\n",
    "    class_mode = 'categorical')"
   ]
  },
  {
   "cell_type": "code",
   "execution_count": 9,
   "id": "3696479a",
   "metadata": {},
   "outputs": [
    {
     "name": "stdout",
     "output_type": "stream",
     "text": [
      "Model: \"sequential\"\n",
      "_________________________________________________________________\n",
      " Layer (type)                Output Shape              Param #   \n",
      "=================================================================\n",
      " conv2d (Conv2D)             (None, 256, 256, 16)      208       \n",
      "                                                                 \n",
      " max_pooling2d (MaxPooling2D  (None, 128, 128, 16)     0         \n",
      " )                                                               \n",
      "                                                                 \n",
      " conv2d_1 (Conv2D)           (None, 128, 128, 32)      2080      \n",
      "                                                                 \n",
      " max_pooling2d_1 (MaxPooling  (None, 64, 64, 32)       0         \n",
      " 2D)                                                             \n",
      "                                                                 \n",
      " conv2d_2 (Conv2D)           (None, 64, 64, 64)        8256      \n",
      "                                                                 \n",
      " max_pooling2d_2 (MaxPooling  (None, 32, 32, 64)       0         \n",
      " 2D)                                                             \n",
      "                                                                 \n",
      " conv2d_3 (Conv2D)           (None, 32, 32, 32)        8224      \n",
      "                                                                 \n",
      " max_pooling2d_3 (MaxPooling  (None, 16, 16, 32)       0         \n",
      " 2D)                                                             \n",
      "                                                                 \n",
      " conv2d_4 (Conv2D)           (None, 16, 16, 64)        8256      \n",
      "                                                                 \n",
      " max_pooling2d_4 (MaxPooling  (None, 8, 8, 64)         0         \n",
      " 2D)                                                             \n",
      "                                                                 \n",
      " conv2d_5 (Conv2D)           (None, 8, 8, 32)          8224      \n",
      "                                                                 \n",
      " max_pooling2d_5 (MaxPooling  (None, 4, 4, 32)         0         \n",
      " 2D)                                                             \n",
      "                                                                 \n",
      " conv2d_6 (Conv2D)           (None, 4, 4, 64)          8256      \n",
      "                                                                 \n",
      " max_pooling2d_6 (MaxPooling  (None, 2, 2, 64)         0         \n",
      " 2D)                                                             \n",
      "                                                                 \n",
      " flatten (Flatten)           (None, 256)               0         \n",
      "                                                                 \n",
      " dense (Dense)               (None, 500)               128500    \n",
      "                                                                 \n",
      " dense_1 (Dense)             (None, 1)                 501       \n",
      "                                                                 \n",
      "=================================================================\n",
      "Total params: 172,505\n",
      "Trainable params: 172,505\n",
      "Non-trainable params: 0\n",
      "_________________________________________________________________\n"
     ]
    }
   ],
   "source": [
    "### Create Model from scratch using CNN\n",
    "model=Sequential()\n",
    "model.add(Conv2D(filters=16,kernel_size=2,padding=\"same\",activation=\"relu\",input_shape=(256,256,3)))\n",
    "model.add(MaxPooling2D(pool_size=2))\n",
    "model.add(Conv2D(filters=32,kernel_size=2,padding=\"same\",activation =\"relu\"))\n",
    "model.add(MaxPooling2D(pool_size=2))\n",
    "model.add(Conv2D(filters=64,kernel_size=2,padding=\"same\",activation=\"relu\"))\n",
    "model.add(MaxPooling2D(pool_size=2))\n",
    "model.add(Conv2D(filters=32,kernel_size=2,padding=\"same\",activation =\"relu\"))\n",
    "model.add(MaxPooling2D(pool_size=2))\n",
    "model.add(Conv2D(filters=64,kernel_size=2,padding=\"same\",activation=\"relu\"))\n",
    "model.add(MaxPooling2D(pool_size=2))\n",
    "model.add(Conv2D(filters=32,kernel_size=2,padding=\"same\",activation =\"relu\"))\n",
    "model.add(MaxPooling2D(pool_size=2))\n",
    "model.add(Conv2D(filters=64,kernel_size=2,padding=\"same\",activation=\"relu\"))\n",
    "model.add(MaxPooling2D(pool_size=2))\n",
    "model.add(Flatten())\n",
    "model.add(Dense(500,activation=\"relu\"))\n",
    "model.add(Dense(1,activation=\"sigmoid\"))\n",
    "model.summary()"
   ]
  },
  {
   "cell_type": "code",
   "execution_count": 10,
   "id": "1effbd0f",
   "metadata": {},
   "outputs": [],
   "source": [
    "# tell the model what cost and optimization method to use\n",
    "model.compile(\n",
    "  loss='binary_crossentropy',\n",
    "  optimizer='adam',\n",
    "  metrics=['accuracy']\n",
    ")\n"
   ]
  },
  {
   "cell_type": "code",
   "execution_count": 11,
   "id": "53505b28-549b-45a7-9698-ede44658c681",
   "metadata": {},
   "outputs": [
    {
     "name": "stdout",
     "output_type": "stream",
     "text": [
      "Epoch 1/30\n",
      "47/47 [==============================] - 84s 2s/step - loss: 0.6385 - accuracy: 0.6170 - val_loss: 0.5995 - val_accuracy: 0.7240\n",
      "Epoch 2/30\n",
      "47/47 [==============================] - 83s 2s/step - loss: 0.5110 - accuracy: 0.7434 - val_loss: 0.5019 - val_accuracy: 0.7500\n",
      "Epoch 3/30\n",
      "47/47 [==============================] - 82s 2s/step - loss: 0.3728 - accuracy: 0.8421 - val_loss: 0.5013 - val_accuracy: 0.7812\n",
      "Epoch 4/30\n",
      "47/47 [==============================] - 84s 2s/step - loss: 0.2888 - accuracy: 0.9089 - val_loss: 0.2631 - val_accuracy: 0.9062\n",
      "Epoch 5/30\n",
      "47/47 [==============================] - 87s 2s/step - loss: 0.2423 - accuracy: 0.9099 - val_loss: 0.2171 - val_accuracy: 0.9271\n",
      "Epoch 6/30\n",
      "47/47 [==============================] - 88s 2s/step - loss: 0.1896 - accuracy: 0.9355 - val_loss: 0.1156 - val_accuracy: 0.9635\n",
      "Epoch 7/30\n",
      "47/47 [==============================] - 92s 2s/step - loss: 0.1490 - accuracy: 0.9574 - val_loss: 0.1505 - val_accuracy: 0.9323\n",
      "Epoch 8/30\n",
      "47/47 [==============================] - 85s 2s/step - loss: 0.1516 - accuracy: 0.9476 - val_loss: 0.1692 - val_accuracy: 0.9427\n",
      "Epoch 9/30\n",
      "47/47 [==============================] - 86s 2s/step - loss: 0.1450 - accuracy: 0.9581 - val_loss: 0.1494 - val_accuracy: 0.9635\n",
      "Epoch 10/30\n",
      "47/47 [==============================] - 85s 2s/step - loss: 0.1494 - accuracy: 0.9528 - val_loss: 0.1475 - val_accuracy: 0.9531\n",
      "Epoch 11/30\n",
      "47/47 [==============================] - 84s 2s/step - loss: 0.1557 - accuracy: 0.9483 - val_loss: 0.1461 - val_accuracy: 0.9427\n",
      "Epoch 12/30\n",
      "47/47 [==============================] - 84s 2s/step - loss: 0.1698 - accuracy: 0.9462 - val_loss: 0.2115 - val_accuracy: 0.9375\n",
      "Epoch 13/30\n",
      "47/47 [==============================] - 86s 2s/step - loss: 0.1580 - accuracy: 0.9475 - val_loss: 0.1135 - val_accuracy: 0.9531\n",
      "Epoch 14/30\n",
      "47/47 [==============================] - 85s 2s/step - loss: 0.1301 - accuracy: 0.9528 - val_loss: 0.0933 - val_accuracy: 0.9740\n",
      "Epoch 15/30\n",
      "47/47 [==============================] - 84s 2s/step - loss: 0.1342 - accuracy: 0.9583 - val_loss: 0.1513 - val_accuracy: 0.9479\n",
      "Epoch 16/30\n",
      "47/47 [==============================] - 84s 2s/step - loss: 0.1541 - accuracy: 0.9469 - val_loss: 0.0875 - val_accuracy: 0.9740\n",
      "Epoch 17/30\n",
      "47/47 [==============================] - 85s 2s/step - loss: 0.1352 - accuracy: 0.9488 - val_loss: 0.1434 - val_accuracy: 0.9375\n",
      "Epoch 18/30\n",
      "47/47 [==============================] - 84s 2s/step - loss: 0.1378 - accuracy: 0.9543 - val_loss: 0.1111 - val_accuracy: 0.9531\n",
      "Epoch 19/30\n",
      "47/47 [==============================] - 85s 2s/step - loss: 0.1307 - accuracy: 0.9469 - val_loss: 0.1035 - val_accuracy: 0.9583\n",
      "Epoch 20/30\n",
      "47/47 [==============================] - 85s 2s/step - loss: 0.1319 - accuracy: 0.9583 - val_loss: 0.1387 - val_accuracy: 0.9479\n",
      "Epoch 21/30\n",
      "47/47 [==============================] - 84s 2s/step - loss: 0.1431 - accuracy: 0.9515 - val_loss: 0.1655 - val_accuracy: 0.9323\n",
      "Epoch 22/30\n",
      "47/47 [==============================] - 86s 2s/step - loss: 0.1325 - accuracy: 0.9581 - val_loss: 0.1082 - val_accuracy: 0.9583\n",
      "Epoch 23/30\n",
      "47/47 [==============================] - 84s 2s/step - loss: 0.1147 - accuracy: 0.9597 - val_loss: 0.0962 - val_accuracy: 0.9635\n",
      "Epoch 24/30\n",
      "47/47 [==============================] - 85s 2s/step - loss: 0.1207 - accuracy: 0.9608 - val_loss: 0.1114 - val_accuracy: 0.9635\n",
      "Epoch 25/30\n",
      "47/47 [==============================] - 85s 2s/step - loss: 0.1445 - accuracy: 0.9515 - val_loss: 0.0476 - val_accuracy: 0.9896\n",
      "Epoch 26/30\n",
      "47/47 [==============================] - 85s 2s/step - loss: 0.1215 - accuracy: 0.9528 - val_loss: 0.1380 - val_accuracy: 0.9479\n",
      "Epoch 27/30\n",
      "47/47 [==============================] - 85s 2s/step - loss: 0.1191 - accuracy: 0.9581 - val_loss: 0.1568 - val_accuracy: 0.9375\n",
      "Epoch 28/30\n",
      "47/47 [==============================] - 86s 2s/step - loss: 0.1432 - accuracy: 0.9556 - val_loss: 0.0823 - val_accuracy: 0.9688\n",
      "Epoch 29/30\n",
      "47/47 [==============================] - 88s 2s/step - loss: 0.1312 - accuracy: 0.9561 - val_loss: 0.1039 - val_accuracy: 0.9583\n",
      "Epoch 30/30\n",
      "47/47 [==============================] - 84s 2s/step - loss: 0.1133 - accuracy: 0.9621 - val_loss: 0.1360 - val_accuracy: 0.9479\n"
     ]
    }
   ],
   "source": [
    "history = model.fit(train_generator, \n",
    "                    steps_per_epoch = 47, \n",
    "                    verbose = 1, \n",
    "                    validation_data = validation_generator,\n",
    "                       validation_steps = 6,\n",
    "                   epochs = 30)"
   ]
  },
  {
   "cell_type": "code",
   "execution_count": 12,
   "id": "dcd29687-f23d-47f8-a515-337a4c3e195a",
   "metadata": {},
   "outputs": [
    {
     "name": "stdout",
     "output_type": "stream",
     "text": [
      "27/27 [==============================] - 17s 641ms/step - loss: 2.6867 - accuracy: 0.5000\n"
     ]
    },
    {
     "data": {
      "text/plain": [
       "[2.6866657733917236, 0.5]"
      ]
     },
     "execution_count": 12,
     "metadata": {},
     "output_type": "execute_result"
    }
   ],
   "source": [
    "scores = model.evaluate(test_generator)\n",
    "scores"
   ]
  },
  {
   "cell_type": "code",
   "execution_count": 13,
   "id": "75351dac-da41-471b-981a-e987e44e6e30",
   "metadata": {},
   "outputs": [],
   "source": [
    "acc = history.history['accuracy']\n",
    "val_acc = history.history['val_accuracy']\n",
    "\n",
    "loss = history.history['loss']\n",
    "val_loss = history.history['val_loss']"
   ]
  },
  {
   "cell_type": "code",
   "execution_count": 22,
   "id": "f1d73a39-ef25-4eac-94e8-48d004ba496f",
   "metadata": {},
   "outputs": [
    {
     "data": {
      "image/png": "[encoded data removed]",
      "text/plain": [
       "<Figure size 576x576 with 2 Axes>"
      ]
     },
     "metadata": {
      "needs_background": "light"
     },
     "output_type": "display_data"
    },
    {
     "data": {
      "text/plain": [
       "<Figure size 432x288 with 0 Axes>"
      ]
     },
     "metadata": {},
     "output_type": "display_data"
    }
   ],
   "source": [
    "plt.figure(figsize = (8, 8))\n",
    "plt.subplot(1, 2, 1)\n",
    "plt.plot(range(30), acc, label = 'Training Accuracy')\n",
    "plt.plot(range(30), val_acc, label = 'Validation Accuracy')\n",
    "plt.legend(loc = 'lower right')\n",
    "plt.title('Training and  Validation accuracy')\n",
    "\n",
    "plt.subplot(1, 2, 2)\n",
    "plt.plot(range(30), loss, label = 'Training loss')\n",
    "plt.plot(range(30), val_loss, label = 'Validation loss')\n",
    "plt.legend(loc = 'lower right')\n",
    "plt.title('Training and  Validation loss')\n",
    "\n",
    "plt.show()\n",
    "plt.savefig('../reports/figures/AccVal_accCNN.jpg')"
   ]
  },
  {
   "cell_type": "code",
   "execution_count": 23,
   "id": "95abb91d-bdf7-4a35-b804-d3db044ab394",
   "metadata": {},
   "outputs": [],
   "source": [
    "# Save the mdel to be used in google Cloud\n",
    "\n",
    "model.save('../models/Parasite_CNN.h5')"
   ]
  }
 ],
 "metadata": {
  "kernelspec": {
   "display_name": "Python 3 (ipykernel)",
   "language": "python",
   "name": "python3"
  },
  "language_info": {
   "codemirror_mode": {
    "name": "ipython",
    "version": 3
   },
   "file_extension": ".py",
   "mimetype": "text/x-python",
   "name": "python",
   "nbconvert_exporter": "python",
   "pygments_lexer": "ipython3",
   "version": "3.9.5"
  }
 },
 "nbformat": 4,
 "nbformat_minor": 5
}
