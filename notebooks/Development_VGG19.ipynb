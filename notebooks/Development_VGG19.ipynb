{
 "cells": [
  {
   "cell_type": "code",
   "execution_count": 1,
   "id": "912393c6-219b-4a0f-bcd7-e27435fd0d1d",
   "metadata": {},
   "outputs": [],
   "source": [
    "# import the libraries as shown below\n",
    "\n",
    "import tensorflow \n",
    "import numpy as np\n",
    "from glob import glob\n",
    "import matplotlib.pyplot as plt\n",
    "from tensorflow.keras.preprocessing import image\n",
    "from tensorflow.keras.models import Sequential, Model\n",
    "from tensorflow.keras.applications.vgg19 import VGG19\n",
    "from tensorflow.keras.losses import SparseCategoricalCrossentropy\n",
    "from tensorflow.keras.applications.resnet50 import preprocess_input\n",
    "from tensorflow.keras.callbacks import ModelCheckpoint, EarlyStopping\n",
    "from tensorflow.keras.preprocessing.image import ImageDataGenerator, load_img\n",
    "from tensorflow.keras.layers import Conv2D, MaxPooling2D, Flatten, Dropout, Dense, experimental, Lambda"
   ]
  },
  {
   "cell_type": "markdown",
   "id": "e9ed5644-c610-48bb-923b-2e99e1b399ee",
   "metadata": {},
   "source": [
    "# Check Existance of bad files"
   ]
  },
  {
   "cell_type": "code",
   "execution_count": 2,
   "id": "70d48ab4-3cdc-4504-8945-7096df496be5",
   "metadata": {},
   "outputs": [
    {
     "name": "stdout",
     "output_type": "stream",
     "text": [
      "processing class directory  Parasitized\n",
      "processing class directory  Uninfected\n",
      " no improper image files were found\n"
     ]
    }
   ],
   "source": [
    "import os\n",
    "import cv2\n",
    "def check_images( s_dir, ext_list):\n",
    "    bad_images=[]\n",
    "    bad_ext=[]\n",
    "    s_list= os.listdir(s_dir)\n",
    "    for klass in s_list:\n",
    "        klass_path=os.path.join (s_dir, klass)\n",
    "        print ('processing class directory ', klass)\n",
    "        if os.path.isdir(klass_path):\n",
    "            file_list=os.listdir(klass_path)\n",
    "            for f in file_list:               \n",
    "                f_path=os.path.join (klass_path,f)\n",
    "                index=f.rfind('.')\n",
    "                ext=f[index+1:].lower()\n",
    "                if ext not in ext_list:\n",
    "                    print('file ', f_path, ' has an invalid extension ', ext)\n",
    "                    bad_ext.append(f_path)\n",
    "                if os.path.isfile(f_path):\n",
    "                    try:\n",
    "                        img=cv2.imread(f_path)\n",
    "                        shape=img.shape\n",
    "                    except:\n",
    "                        print('file ', f_path, ' is not a valid image file')\n",
    "                        bad_images.append(f_path)\n",
    "                else:\n",
    "                    print('*** fatal error, you a sub directory ', f, ' in class directory ', klass)\n",
    "        else:\n",
    "            print ('*** WARNING*** you have files in ', s_dir, ' it should only contain sub directories')\n",
    "    return bad_images, bad_ext\n",
    "\n",
    "source_dir ='../data/external/cell_images'\n",
    "good_exts=['jpg', 'png', 'jpeg', 'gif', 'bmp' ] # list of acceptable extensions\n",
    "bad_file_list, bad_ext_list=check_images(source_dir, good_exts)\n",
    "if len(bad_file_list) !=0:\n",
    "    print('improper image files are listed below')\n",
    "    for i in range (len(bad_file_list)):\n",
    "        print (bad_file_list[i])\n",
    "else:\n",
    "    print(' no improper image files were found')"
   ]
  },
  {
   "cell_type": "code",
   "execution_count": 3,
   "id": "de1e4697-2492-4405-8b30-442328cf426e",
   "metadata": {},
   "outputs": [
    {
     "name": "stderr",
     "output_type": "stream",
     "text": [
      "Copying files: 2000 files [00:02, 920.22 files/s]\n"
     ]
    }
   ],
   "source": [
    "# Split the data After removing corrupted Images\n",
    "import splitfolders\n",
    "splitfolders.ratio('../data/external/cell_images', output=\"../data/interim/dataset\", seed=1337, ratio=(.8, 0.1,0.1))"
   ]
  },
  {
   "cell_type": "code",
   "execution_count": 4,
   "id": "96cd9cb4-7e53-4a13-a765-b84eb0d0b0e2",
   "metadata": {},
   "outputs": [
    {
     "name": "stdout",
     "output_type": "stream",
     "text": [
      "Found 5136 images belonging to 2 classes.\n"
     ]
    }
   ],
   "source": [
    "train_datagen = ImageDataGenerator(\n",
    "    rescale = 1./255,\n",
    "    horizontal_flip = True,\n",
    "    rotation_range = 10\n",
    ")\n",
    "\n",
    "# in the anaconda_prompt write \"mkdir augmented\" to ccreate file to put the augmented images in it \n",
    "\n",
    "train_generator = train_datagen.flow_from_directory(\n",
    "    '../data/interim/dataset/train',\n",
    "    target_size = (256, 256),\n",
    "    batch_size = 32,\n",
    "    class_mode = 'sparse',\n",
    "    save_to_dir = \"../data/interim/augmentedTL\"\n",
    ")"
   ]
  },
  {
   "cell_type": "code",
   "execution_count": 5,
   "id": "ce2f2276-0626-4413-9992-9a579df1f25a",
   "metadata": {},
   "outputs": [
    {
     "name": "stdout",
     "output_type": "stream",
     "text": [
      "Found 866 images belonging to 2 classes.\n"
     ]
    }
   ],
   "source": [
    "validation_datagen = ImageDataGenerator(\n",
    "    rescale = 1./255,\n",
    "    horizontal_flip = True,\n",
    "    rotation_range = 10\n",
    ")\n",
    "\n",
    "# in the anaconda_prompt write \"mkdir augmented\" to ccreate file to put the augmented images in it \n",
    "\n",
    "validation_generator = validation_datagen.flow_from_directory(\n",
    "    '../data/interim/dataset/val',\n",
    "    target_size = (256, 256),\n",
    "    batch_size = 32,\n",
    "    class_mode = 'sparse'\n",
    ")"
   ]
  },
  {
   "cell_type": "code",
   "execution_count": 6,
   "id": "d4a75842-d5cd-4640-b540-8f25279a8044",
   "metadata": {},
   "outputs": [
    {
     "name": "stdout",
     "output_type": "stream",
     "text": [
      "Found 859 images belonging to 2 classes.\n"
     ]
    }
   ],
   "source": [
    "test_datagen = ImageDataGenerator(\n",
    "    rescale = 1./255,\n",
    "    horizontal_flip = True,\n",
    "    rotation_range = 10\n",
    ")\n",
    "\n",
    "# in the anaconda_prompt write \"mkdir augmented\" to ccreate file to put the augmented images in it \n",
    "\n",
    "test_generator = test_datagen.flow_from_directory(\n",
    "    '../data/interim/dataset/test',\n",
    "    target_size = (256, 256),\n",
    "    batch_size = 32,\n",
    "    class_mode = 'categorical')"
   ]
  },
  {
   "cell_type": "code",
   "execution_count": 7,
   "id": "1f4e2fc6-2650-41ad-9e95-438763afc167",
   "metadata": {},
   "outputs": [],
   "source": [
    "# Import the Vgg 16 library as shown below and add preprocessing layer to the front of VGG\n",
    "# Here we will be using imagenet weights\n",
    "\n",
    "# re-size all the images to this\n",
    "IMAGE_SIZE = [256, 256]\n",
    "\n",
    "n_classes = 2\n",
    "\n",
    "mobilnet = VGG19(input_shape=IMAGE_SIZE + [3], weights='imagenet', include_top=False)"
   ]
  },
  {
   "cell_type": "code",
   "execution_count": 8,
   "id": "14d23047",
   "metadata": {},
   "outputs": [],
   "source": [
    "# don't train existing weights\n",
    "for layer in mobilnet.layers:\n",
    "    layer.trainable = False"
   ]
  },
  {
   "cell_type": "code",
   "execution_count": 9,
   "id": "278f8d9b",
   "metadata": {},
   "outputs": [
    {
     "data": {
      "text/plain": [
       "[]"
      ]
     },
     "execution_count": 9,
     "metadata": {},
     "output_type": "execute_result"
    }
   ],
   "source": [
    "# useful for getting number of output classes\n",
    "folders = glob('Dataset/Train/*')\n",
    "folders"
   ]
  },
  {
   "cell_type": "code",
   "execution_count": 10,
   "id": "8f3d9e05",
   "metadata": {},
   "outputs": [
    {
     "data": {
      "text/plain": [
       "TensorShape([None, 32768])"
      ]
     },
     "execution_count": 10,
     "metadata": {},
     "output_type": "execute_result"
    }
   ],
   "source": [
    "# our layers - you can add more if you want\n",
    "x = Flatten()(mobilnet.output)\n",
    "x.shape"
   ]
  },
  {
   "cell_type": "code",
   "execution_count": 11,
   "id": "6004ce67",
   "metadata": {},
   "outputs": [
    {
     "data": {
      "text/plain": [
       "<KerasTensor: shape=(None, 1) dtype=float32 (created by layer 'dense')>"
      ]
     },
     "execution_count": 11,
     "metadata": {},
     "output_type": "execute_result"
    }
   ],
   "source": [
    "prediction = Dense(1, activation='sigmoid')(x)\n",
    "prediction"
   ]
  },
  {
   "cell_type": "code",
   "execution_count": 12,
   "id": "c8cede5b",
   "metadata": {},
   "outputs": [],
   "source": [
    "# create a model object\n",
    "model = Model(inputs=mobilnet.input, outputs=prediction)"
   ]
  },
  {
   "cell_type": "code",
   "execution_count": 13,
   "id": "72f8e0a5",
   "metadata": {},
   "outputs": [
    {
     "name": "stdout",
     "output_type": "stream",
     "text": [
      "Model: \"model\"\n",
      "_________________________________________________________________\n",
      " Layer (type)                Output Shape              Param #   \n",
      "=================================================================\n",
      " input_1 (InputLayer)        [(None, 256, 256, 3)]     0         \n",
      "                                                                 \n",
      " block1_conv1 (Conv2D)       (None, 256, 256, 64)      1792      \n",
      "                                                                 \n",
      " block1_conv2 (Conv2D)       (None, 256, 256, 64)      36928     \n",
      "                                                                 \n",
      " block1_pool (MaxPooling2D)  (None, 128, 128, 64)      0         \n",
      "                                                                 \n",
      " block2_conv1 (Conv2D)       (None, 128, 128, 128)     73856     \n",
      "                                                                 \n",
      " block2_conv2 (Conv2D)       (None, 128, 128, 128)     147584    \n",
      "                                                                 \n",
      " block2_pool (MaxPooling2D)  (None, 64, 64, 128)       0         \n",
      "                                                                 \n",
      " block3_conv1 (Conv2D)       (None, 64, 64, 256)       295168    \n",
      "                                                                 \n",
      " block3_conv2 (Conv2D)       (None, 64, 64, 256)       590080    \n",
      "                                                                 \n",
      " block3_conv3 (Conv2D)       (None, 64, 64, 256)       590080    \n",
      "                                                                 \n",
      " block3_conv4 (Conv2D)       (None, 64, 64, 256)       590080    \n",
      "                                                                 \n",
      " block3_pool (MaxPooling2D)  (None, 32, 32, 256)       0         \n",
      "                                                                 \n",
      " block4_conv1 (Conv2D)       (None, 32, 32, 512)       1180160   \n",
      "                                                                 \n",
      " block4_conv2 (Conv2D)       (None, 32, 32, 512)       2359808   \n",
      "                                                                 \n",
      " block4_conv3 (Conv2D)       (None, 32, 32, 512)       2359808   \n",
      "                                                                 \n",
      " block4_conv4 (Conv2D)       (None, 32, 32, 512)       2359808   \n",
      "                                                                 \n",
      " block4_pool (MaxPooling2D)  (None, 16, 16, 512)       0         \n",
      "                                                                 \n",
      " block5_conv1 (Conv2D)       (None, 16, 16, 512)       2359808   \n",
      "                                                                 \n",
      " block5_conv2 (Conv2D)       (None, 16, 16, 512)       2359808   \n",
      "                                                                 \n",
      " block5_conv3 (Conv2D)       (None, 16, 16, 512)       2359808   \n",
      "                                                                 \n",
      " block5_conv4 (Conv2D)       (None, 16, 16, 512)       2359808   \n",
      "                                                                 \n",
      " block5_pool (MaxPooling2D)  (None, 8, 8, 512)         0         \n",
      "                                                                 \n",
      " flatten (Flatten)           (None, 32768)             0         \n",
      "                                                                 \n",
      " dense (Dense)               (None, 1)                 32769     \n",
      "                                                                 \n",
      "=================================================================\n",
      "Total params: 20,057,153\n",
      "Trainable params: 32,769\n",
      "Non-trainable params: 20,024,384\n",
      "_________________________________________________________________\n"
     ]
    }
   ],
   "source": [
    "# view the structure of the model\n",
    "model.summary()\n"
   ]
  },
  {
   "cell_type": "code",
   "execution_count": 14,
   "id": "bd845266",
   "metadata": {},
   "outputs": [],
   "source": [
    "# tell the model what cost and optimization method to use\n",
    "model.compile(\n",
    "  loss='binary_crossentropy',\n",
    "  optimizer='adam',\n",
    "  metrics=['accuracy']\n",
    ")"
   ]
  },
  {
   "cell_type": "code",
   "execution_count": 16,
   "id": "53505b28-549b-45a7-9698-ede44658c681",
   "metadata": {},
   "outputs": [
    {
     "name": "stdout",
     "output_type": "stream",
     "text": [
      "Epoch 1/30\n",
      "20/20 [==============================] - 375s 19s/step - loss: 0.8272 - accuracy: 0.5906 - val_loss: 0.5637 - val_accuracy: 0.6823\n",
      "Epoch 2/30\n",
      "20/20 [==============================] - 362s 18s/step - loss: 0.5299 - accuracy: 0.7203 - val_loss: 0.5830 - val_accuracy: 0.6615\n",
      "Epoch 3/30\n",
      "20/20 [==============================] - 355s 18s/step - loss: 0.4322 - accuracy: 0.8078 - val_loss: 0.4008 - val_accuracy: 0.8385\n",
      "Epoch 4/30\n",
      "20/20 [==============================] - 356s 18s/step - loss: 0.4056 - accuracy: 0.8219 - val_loss: 0.3402 - val_accuracy: 0.8594\n",
      "Epoch 5/30\n",
      "20/20 [==============================] - 356s 18s/step - loss: 0.3686 - accuracy: 0.8328 - val_loss: 0.3490 - val_accuracy: 0.8177\n",
      "Epoch 6/30\n",
      "20/20 [==============================] - 356s 18s/step - loss: 0.3738 - accuracy: 0.8328 - val_loss: 0.3022 - val_accuracy: 0.8906\n",
      "Epoch 7/30\n",
      "20/20 [==============================] - 390s 20s/step - loss: 0.3574 - accuracy: 0.8484 - val_loss: 0.2999 - val_accuracy: 0.8854\n",
      "Epoch 8/30\n",
      "20/20 [==============================] - 350s 18s/step - loss: 0.3056 - accuracy: 0.8686 - val_loss: 0.3184 - val_accuracy: 0.8646\n",
      "Epoch 9/30\n",
      "20/20 [==============================] - 358s 18s/step - loss: 0.3145 - accuracy: 0.8750 - val_loss: 0.3587 - val_accuracy: 0.8385\n",
      "Epoch 10/30\n",
      "20/20 [==============================] - 425s 22s/step - loss: 0.3825 - accuracy: 0.8250 - val_loss: 0.3454 - val_accuracy: 0.8490\n",
      "Epoch 11/30\n",
      "20/20 [==============================] - 408s 20s/step - loss: 0.3239 - accuracy: 0.8641 - val_loss: 0.3549 - val_accuracy: 0.8698\n",
      "Epoch 12/30\n",
      "20/20 [==============================] - 414s 21s/step - loss: 0.3861 - accuracy: 0.8125 - val_loss: 0.5066 - val_accuracy: 0.7188\n",
      "Epoch 13/30\n",
      "20/20 [==============================] - 444s 23s/step - loss: 0.3196 - accuracy: 0.8656 - val_loss: 0.3240 - val_accuracy: 0.8646\n",
      "Epoch 14/30\n",
      "20/20 [==============================] - 390s 20s/step - loss: 0.3209 - accuracy: 0.8672 - val_loss: 0.2837 - val_accuracy: 0.8958\n",
      "Epoch 15/30\n",
      "20/20 [==============================] - 387s 19s/step - loss: 0.3080 - accuracy: 0.8766 - val_loss: 0.2290 - val_accuracy: 0.9219\n",
      "Epoch 16/30\n",
      "20/20 [==============================] - 420s 21s/step - loss: 0.3285 - accuracy: 0.8547 - val_loss: 0.2316 - val_accuracy: 0.9219\n",
      "Epoch 17/30\n",
      "20/20 [==============================] - 463s 23s/step - loss: 0.2789 - accuracy: 0.8781 - val_loss: 0.2167 - val_accuracy: 0.8958\n",
      "Epoch 18/30\n",
      "20/20 [==============================] - 530s 27s/step - loss: 0.2443 - accuracy: 0.9119 - val_loss: 0.3813 - val_accuracy: 0.8229\n",
      "Epoch 19/30\n",
      "20/20 [==============================] - 369s 19s/step - loss: 0.3300 - accuracy: 0.8578 - val_loss: 0.3064 - val_accuracy: 0.8698\n",
      "Epoch 20/30\n",
      "20/20 [==============================] - 352s 18s/step - loss: 0.2771 - accuracy: 0.8686 - val_loss: 0.2298 - val_accuracy: 0.9323\n",
      "Epoch 21/30\n",
      "20/20 [==============================] - 355s 18s/step - loss: 0.2451 - accuracy: 0.8922 - val_loss: 0.2107 - val_accuracy: 0.9167\n",
      "Epoch 22/30\n",
      "20/20 [==============================] - 408s 21s/step - loss: 0.2655 - accuracy: 0.8891 - val_loss: 0.2192 - val_accuracy: 0.9219\n",
      "Epoch 23/30\n",
      "20/20 [==============================] - 357s 18s/step - loss: 0.2586 - accuracy: 0.8922 - val_loss: 0.2598 - val_accuracy: 0.9010\n",
      "Epoch 24/30\n",
      "20/20 [==============================] - 357s 18s/step - loss: 0.2304 - accuracy: 0.9094 - val_loss: 0.1970 - val_accuracy: 0.9427\n",
      "Epoch 25/30\n",
      "20/20 [==============================] - 360s 18s/step - loss: 0.3016 - accuracy: 0.8766 - val_loss: 0.2373 - val_accuracy: 0.9010\n",
      "Epoch 26/30\n",
      "20/20 [==============================] - 356s 18s/step - loss: 0.2068 - accuracy: 0.9125 - val_loss: 0.2416 - val_accuracy: 0.9271\n",
      "Epoch 27/30\n",
      "20/20 [==============================] - 356s 18s/step - loss: 0.2510 - accuracy: 0.9000 - val_loss: 0.2443 - val_accuracy: 0.9010\n",
      "Epoch 28/30\n",
      "20/20 [==============================] - 355s 18s/step - loss: 0.2676 - accuracy: 0.8906 - val_loss: 0.3106 - val_accuracy: 0.8594\n",
      "Epoch 29/30\n",
      "20/20 [==============================] - 355s 18s/step - loss: 0.2487 - accuracy: 0.9047 - val_loss: 0.2492 - val_accuracy: 0.9062\n",
      "Epoch 30/30\n",
      "20/20 [==============================] - 356s 18s/step - loss: 0.2677 - accuracy: 0.8875 - val_loss: 0.2219 - val_accuracy: 0.8906\n"
     ]
    }
   ],
   "source": [
    "history = model.fit(train_generator, \n",
    "                    steps_per_epoch = 20, \n",
    "                    verbose = 1, \n",
    "                    validation_data = validation_generator,\n",
    "                   validation_steps = 6,\n",
    "                   epochs = 30)"
   ]
  },
  {
   "cell_type": "code",
   "execution_count": 17,
   "id": "75351dac-da41-471b-981a-e987e44e6e30",
   "metadata": {},
   "outputs": [],
   "source": [
    "acc = history.history['accuracy']\n",
    "val_acc = history.history['val_accuracy']\n",
    "\n",
    "loss = history.history['loss']\n",
    "val_loss = history.history['val_loss']"
   ]
  },
  {
   "cell_type": "code",
   "execution_count": 18,
   "id": "f1d73a39-ef25-4eac-94e8-48d004ba496f",
   "metadata": {},
   "outputs": [
    {
     "data": {
      "image/png": "[encoded data removed]",
      "text/plain": [
       "<Figure size 576x576 with 2 Axes>"
      ]
     },
     "metadata": {
      "needs_background": "light"
     },
     "output_type": "display_data"
    }
   ],
   "source": [
    "plt.figure(figsize = (8, 8))\n",
    "plt.subplot(1, 2, 1)\n",
    "plt.plot(range(30), acc, label = 'Training Accuracy')\n",
    "plt.plot(range(30), val_acc, label = 'Validation Accuracy')\n",
    "plt.legend(loc = 'lower right')\n",
    "plt.title('Training and  Validation accuracy')\n",
    "\n",
    "plt.subplot(1, 2, 2)\n",
    "plt.plot(range(30), loss, label = 'Training loss')\n",
    "plt.plot(range(30), val_loss, label = 'Validation loss')\n",
    "plt.legend(loc = 'lower right')\n",
    "plt.title('Training and  Validation loss')\n",
    "plt.savefig('../reports/figures/AccVal_accVGG19.jpg')"
   ]
  },
  {
   "cell_type": "code",
   "execution_count": 19,
   "id": "95abb91d-bdf7-4a35-b804-d3db044ab394",
   "metadata": {},
   "outputs": [],
   "source": [
    "# Save the mdel to be used in google Cloud\n",
    "\n",
    "model.save('../models/Parasite_VGG19.h5')"
   ]
  },
  {
   "cell_type": "code",
   "execution_count": null,
   "id": "fe845bf3",
   "metadata": {},
   "outputs": [],
   "source": []
  }
 ],
 "metadata": {
  "kernelspec": {
   "display_name": "Python 3 (ipykernel)",
   "language": "python",
   "name": "python3"
  },
  "language_info": {
   "codemirror_mode": {
    "name": "ipython",
    "version": 3
   },
   "file_extension": ".py",
   "mimetype": "text/x-python",
   "name": "python",
   "nbconvert_exporter": "python",
   "pygments_lexer": "ipython3",
   "version": "3.9.5"
  }
 },
 "nbformat": 4,
 "nbformat_minor": 5
}
